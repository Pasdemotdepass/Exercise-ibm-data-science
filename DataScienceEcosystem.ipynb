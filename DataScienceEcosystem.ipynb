{
 "cells": [
  {
   "cell_type": "markdown",
   "id": "7144f180-1ffe-4f6e-84ff-3e9ceae7dcb3",
   "metadata": {},
   "source": [
    "# Data Science Tools and Ecosystem"
   ]
  },
  {
   "cell_type": "markdown",
   "id": "a137d86d-59b4-4ad8-8e86-a645047bd767",
   "metadata": {},
   "source": [
    "In this notebook, Data Science Tools and Ecosystem are summarized."
   ]
  },
  {
   "cell_type": "markdown",
   "id": "a8011cb7-c358-40dd-9c1f-19763746b544",
   "metadata": {},
   "source": [
    "**Objectives:**\n",
    "- Python\n",
    "- R\n",
    "- Julia"
   ]
  },
  {
   "cell_type": "markdown",
   "id": "ad1e14f8-f7bf-48ac-a798-8dac57348d18",
   "metadata": {},
   "source": [
    "Some of the popular languages that Data Scientists use are:\n",
    "1. Python\n",
    "2. R\n",
    "3. Julia"
   ]
  },
  {
   "cell_type": "markdown",
   "id": "c47f626c-6ced-492c-be04-50da88bade57",
   "metadata": {},
   "source": [
    "Some of the commonly used libraries used by Data Scientists include:\n",
    "* Scikit-learn\n",
    "* keras\n",
    "* PyTorch"
   ]
  },
  {
   "cell_type": "markdown",
   "id": "7c1f5ffc-4b5f-4f9e-b728-1fd6863c201c",
   "metadata": {},
   "source": [
    "| Data Science Tools |\n",
    "| ------------------ |\n",
    "| Jupyter Notebooks  |\n",
    "| R Studio           |\n",
    "| Hadoop             |\n"
   ]
  },
  {
   "cell_type": "markdown",
   "id": "281f0844-9624-4950-a097-e6bd1d0fd4ee",
   "metadata": {},
   "source": [
    "### Below are a few examples of evaluating arithmetic expressions in Python"
   ]
  },
  {
   "cell_type": "code",
   "execution_count": 12,
   "id": "b053351a-a282-47c1-9151-063764af77b8",
   "metadata": {},
   "outputs": [
    {
     "data": {
      "text/plain": [
       "17"
      ]
     },
     "execution_count": 12,
     "metadata": {},
     "output_type": "execute_result"
    }
   ],
   "source": [
    "# This a simple arithmetic expression to mutiply then add integers\n",
    "(3*4)+5"
   ]
  },
  {
   "cell_type": "code",
   "execution_count": 23,
   "id": "423c704c-ad5e-4ccf-88db-9f02adc10644",
   "metadata": {},
   "outputs": [
    {
     "name": "stdout",
     "output_type": "stream",
     "text": [
      "200 minites equals 3 hours and 20 minutes.\n"
     ]
    }
   ],
   "source": [
    "# This will convert 200 minutes to hours by diving by 60\n",
    "print('200 minites equals', 200//60, 'hours and', 200%60, 'minutes.' )"
   ]
  },
  {
   "cell_type": "markdown",
   "id": "0c9063bc-d8f6-4e6c-a075-41e0e95e36c5",
   "metadata": {},
   "source": [
    "## Author\n",
    "Smilence"
   ]
  },
  {
   "cell_type": "code",
   "execution_count": null,
   "id": "3b39c7e9-8844-43e2-bc65-81ef391cd878",
   "metadata": {},
   "outputs": [],
   "source": []
  }
 ],
 "metadata": {
  "kernelspec": {
   "display_name": "Python 3 (ipykernel)",
   "language": "python",
   "name": "python3"
  },
  "language_info": {
   "codemirror_mode": {
    "name": "ipython",
    "version": 3
   },
   "file_extension": ".py",
   "mimetype": "text/x-python",
   "name": "python",
   "nbconvert_exporter": "python",
   "pygments_lexer": "ipython3",
   "version": "3.12.4"
  }
 },
 "nbformat": 4,
 "nbformat_minor": 5
}
